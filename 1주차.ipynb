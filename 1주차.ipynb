{
  "nbformat": 4,
  "nbformat_minor": 0,
  "metadata": {
    "colab": {
      "provenance": [],
      "authorship_tag": "ABX9TyMxNfpDD2q2GvXIbAJCimie",
      "include_colab_link": true
    },
    "kernelspec": {
      "name": "python3",
      "display_name": "Python 3"
    },
    "language_info": {
      "name": "python"
    }
  },
  "cells": [
    {
      "cell_type": "markdown",
      "metadata": {
        "id": "view-in-github",
        "colab_type": "text"
      },
      "source": [
        "<a href=\"https://colab.research.google.com/github/Ryeongeun-Kim/linearAlgebra2/blob/Ryeoung/1%EC%A3%BC%EC%B0%A8.ipynb\" target=\"_parent\"><img src=\"https://colab.research.google.com/assets/colab-badge.svg\" alt=\"Open In Colab\"/></a>"
      ]
    },
    {
      "cell_type": "markdown",
      "source": [
        "파이썬 기초(Optional)"
      ],
      "metadata": {
        "id": "op5Z75DhXftx"
      }
    },
    {
      "cell_type": "markdown",
      "source": [
        "프린트"
      ],
      "metadata": {
        "id": "YfRmciagXnfz"
      }
    },
    {
      "cell_type": "code",
      "source": [
        "print(\"Hello, world\")\n",
        "#integer\n",
        "x=3\n",
        "print(\"정수: %01d, %02d, %03d, %04d, %05d\"% (x,x,x,x,x))\n",
        "#float\n",
        "x= 256.123\n",
        "print(\"실수: %.0f, %.1f, %.2f\" % (x,x,x))\n",
        "#string\n",
        "x = \"Hello, world\"\n",
        "print(\"문자열: [%s]\"% (x))"
      ],
      "metadata": {
        "colab": {
          "base_uri": "https://localhost:8080/"
        },
        "id": "QS89_skJXdF1",
        "outputId": "48c02030-cf8b-4e8d-9c09-ab3b7c6e13b2"
      },
      "execution_count": 3,
      "outputs": [
        {
          "output_type": "stream",
          "name": "stdout",
          "text": [
            "Hello, world\n",
            "정수: 3, 03, 003, 0003, 00003\n",
            "실수: 256, 256.1, 256.12\n",
            "문자열: [Hello, world]\n"
          ]
        }
      ]
    },
    {
      "cell_type": "markdown",
      "source": [
        "반복문, 조건문"
      ],
      "metadata": {
        "id": "esctRlx_YTvj"
      }
    },
    {
      "cell_type": "code",
      "source": [
        "contents = [\"Regression\", \"Classification\", \"SVM\", \"Clustering\", \"Dimension reduction\",\"NN\", \"CNN\", \"AE\", \"GAN\", \"RNN\"]\n",
        "for con in contents:\n",
        "  if con in [\"Regression\", \"Classification\", \"SVM\", \"Clustering\", \"Dimension reduction\"]:\n",
        "    print(\"%s 은(는) 기계학습 내용입니다.\" %con)\n",
        "  elif con in [\"CNN\"]:\n",
        "    print(\"%s 은(는) convolutional neural network 입니다.\" %con)\n",
        "  else:\n",
        "    print(\"%s 은(는) 심층학습 내용입니다.\" %con)\n",
        "for (i, con) in enumerate(contents):\n",
        "  print(\"[%d/%d]: %s\" %(i, len(contents), con))"
      ],
      "metadata": {
        "colab": {
          "base_uri": "https://localhost:8080/"
        },
        "id": "OFEW4XrPYS6f",
        "outputId": "969de416-9738-45cb-bc37-2d6c2fc3cb42"
      },
      "execution_count": 6,
      "outputs": [
        {
          "output_type": "stream",
          "name": "stdout",
          "text": [
            "Regression 은(는) 기계학습 내용입니다.\n",
            "Classification 은(는) 기계학습 내용입니다.\n",
            "SVM 은(는) 기계학습 내용입니다.\n",
            "Clustering 은(는) 기계학습 내용입니다.\n",
            "Dimension reduction 은(는) 기계학습 내용입니다.\n",
            "NN 은(는) 심층학습 내용입니다.\n",
            "CNN 은(는) convolutional neural network 입니다.\n",
            "AE 은(는) 심층학습 내용입니다.\n",
            "GAN 은(는) 심층학습 내용입니다.\n",
            "RNN 은(는) 심층학습 내용입니다.\n",
            "[0/10]: Regression\n",
            "[1/10]: Classification\n",
            "[2/10]: SVM\n",
            "[3/10]: Clustering\n",
            "[4/10]: Dimension reduction\n",
            "[5/10]: NN\n",
            "[6/10]: CNN\n",
            "[7/10]: AE\n",
            "[8/10]: GAN\n",
            "[9/10]: RNN\n"
          ]
        }
      ]
    },
    {
      "cell_type": "markdown",
      "source": [
        "함수"
      ],
      "metadata": {
        "id": "LwSUJ_hyaVMl"
      }
    },
    {
      "cell_type": "code",
      "source": [
        "def sum(a,b):\n",
        "  return a+b\n",
        "x = 10.0\n",
        "y = 20.0\n",
        "print(\"%.1f + %.1f = %.1f\" %(x, y, sum(x, y)))"
      ],
      "metadata": {
        "colab": {
          "base_uri": "https://localhost:8080/"
        },
        "id": "ALcIXAmdaDSW",
        "outputId": "4e75f4de-4709-471a-af2c-8b508675f3db"
      },
      "execution_count": 7,
      "outputs": [
        {
          "output_type": "stream",
          "name": "stdout",
          "text": [
            "10.0 + 20.0 = 30.0\n"
          ]
        }
      ]
    },
    {
      "cell_type": "markdown",
      "source": [
        "리스트"
      ],
      "metadata": {
        "id": "LAbw-0p6aW5O"
      }
    },
    {
      "cell_type": "code",
      "source": [
        "a = []\n",
        "b = [1,2,3]\n",
        "c=[\"Hello\", \"\", \"world\"]\n",
        "d = [1,2,3,\"x\",\"y\",\"z\"]\n",
        "x=[]\n",
        "print(x)\n",
        "x.append('a')\n",
        "print(x)\n",
        "x.append(123)\n",
        "print(x)\n",
        "x.append([\"a\", \"b\"])\n",
        "print (x)"
      ],
      "metadata": {
        "colab": {
          "base_uri": "https://localhost:8080/"
        },
        "id": "qF9wUANHYnjR",
        "outputId": "b6702659-2acf-4c3d-9791-8a0f8ce8dde6"
      },
      "execution_count": 9,
      "outputs": [
        {
          "output_type": "stream",
          "name": "stdout",
          "text": [
            "[]\n",
            "['a']\n",
            "['a', 123]\n",
            "['a', 123, ['a', 'b']]\n"
          ]
        }
      ]
    },
    {
      "cell_type": "markdown",
      "source": [
        "딕셔너리(dictionary)"
      ],
      "metadata": {
        "id": "KXg0vsmYaweo"
      }
    },
    {
      "cell_type": "code",
      "source": [
        "dic = dict()\n",
        "dic[\"name\"] = \"Daesik\"\n",
        "dic[\"town\"] = \"Yongin city\"\n",
        "dic[\"job\"] = \"Assistant professor\"\n",
        "print(dic)"
      ],
      "metadata": {
        "id": "lmIBHW9ya0N8"
      },
      "execution_count": null,
      "outputs": []
    },
    {
      "cell_type": "markdown",
      "source": [
        "클래스"
      ],
      "metadata": {
        "id": "EctLk4-0bEeO"
      }
    },
    {
      "cell_type": "code",
      "source": [
        "class Student:\n",
        "  #생성자\n",
        "  def __init__(self, name):\n",
        "    self.name = name\n",
        "  #메써드\n",
        "  def study(self, hard=False):\n",
        "    if hard:\n",
        "      print (\"%s 학생은 열심히 공부합니다.\" %self.name)\n",
        "    else:\n",
        "      print(\"%s 학생은 공부합니다.\" %self.name)\n",
        "s = Student('Daesik')\n",
        "s.study()\n",
        "s.study(hard=True)"
      ],
      "metadata": {
        "colab": {
          "base_uri": "https://localhost:8080/"
        },
        "id": "TmqWAfUDbF26",
        "outputId": "b4bb69e4-b65f-40e5-f260-e469422d5869"
      },
      "execution_count": 10,
      "outputs": [
        {
          "output_type": "stream",
          "name": "stdout",
          "text": [
            "Daesik 학생은 공부합니다.\n",
            "Daesik 학생은 열심히 공부합니다.\n"
          ]
        }
      ]
    },
    {
      "cell_type": "markdown",
      "source": [
        "2. 벡터, 행렬 연산, 그래프 그리기"
      ],
      "metadata": {
        "id": "WUj74KuQybCY"
      }
    },
    {
      "cell_type": "markdown",
      "source": [
        "프린트"
      ],
      "metadata": {
        "id": "8FkCLnrkyhby"
      }
    },
    {
      "cell_type": "code",
      "source": [
        "import numpy as np\n",
        "def print_val(x):\n",
        "  print(\"Type:\", type(x))\n",
        "  print(\"Shape:\", x.shape)\n",
        "  print(\"값:\\n\", x)\n",
        "  print(\" \")"
      ],
      "metadata": {
        "id": "N3ZwBEbIyevo"
      },
      "execution_count": null,
      "outputs": []
    },
    {
      "cell_type": "markdown",
      "source": [
        "rank 1 np array"
      ],
      "metadata": {
        "id": "rTBHgl11yw6q"
      }
    },
    {
      "cell_type": "code",
      "source": [
        "import numpy as np\n",
        "def print_val(x):\n",
        "  print(\"Type:\", type(x))\n",
        "  print(\"Shape:\", x.shape)\n",
        "  print(\"값:\\n\", x)\n",
        "  print(\" \")\n",
        "\n",
        "x = np.array([1,2,3])\n",
        "print_val(x)\n",
        "x[0] = 5\n",
        "print_val(x)"
      ],
      "metadata": {
        "colab": {
          "base_uri": "https://localhost:8080/"
        },
        "id": "qdxBLexPyv7K",
        "outputId": "4858b3a6-e894-4d28-f2ac-ce81d5440088"
      },
      "execution_count": 2,
      "outputs": [
        {
          "output_type": "stream",
          "name": "stdout",
          "text": [
            "Type: <class 'numpy.ndarray'>\n",
            "Shape: (3,)\n",
            "값:\n",
            " [1 2 3]\n",
            " \n",
            "Type: <class 'numpy.ndarray'>\n",
            "Shape: (3,)\n",
            "값:\n",
            " [5 2 3]\n",
            " \n"
          ]
        }
      ]
    },
    {
      "cell_type": "markdown",
      "source": [
        "rank 2 np array"
      ],
      "metadata": {
        "id": "LsW8eMB4DQaf"
      }
    },
    {
      "cell_type": "code",
      "source": [
        "import numpy as np\n",
        "def print_val(x):\n",
        "  print(\"Type:\", type(x))\n",
        "  print(\"Shape:\", x.shape)\n",
        "  print(\"값:\\n\", x)\n",
        "  print(\" \")\n",
        "\n",
        "y = np.array([[1,2,3], [4,5,6]])\n",
        "print_val(y)"
      ],
      "metadata": {
        "id": "npSyfpMWDTyv"
      },
      "execution_count": null,
      "outputs": []
    },
    {
      "cell_type": "markdown",
      "source": [
        "rank 2 zeros"
      ],
      "metadata": {
        "id": "4mlF4YB0DW22"
      }
    },
    {
      "cell_type": "code",
      "source": [
        "import numpy as np\n",
        "def print_val(x):\n",
        "  print(\"Type:\", type(x))\n",
        "  print(\"Shape:\", x.shape)\n",
        "  print(\"값:\\n\", x)\n",
        "  print(\" \")\n",
        "\n",
        "a = np.zeros((2,2))\n",
        "print_val(a)"
      ],
      "metadata": {
        "id": "AjUNRRGxDWZ1"
      },
      "execution_count": null,
      "outputs": []
    },
    {
      "cell_type": "markdown",
      "source": [
        "rank 2 ones"
      ],
      "metadata": {
        "id": "7lSJoy98Dbck"
      }
    },
    {
      "cell_type": "code",
      "source": [
        "import numpy as np\n",
        "def print_val(x):\n",
        "  print(\"Type:\", type(x))\n",
        "  print(\"Shape:\", x.shape)\n",
        "  print(\"값:\\n\", x)\n",
        "  print(\" \")\n",
        "\n",
        "a = np.ones((3,2))\n",
        "print_val(a)"
      ],
      "metadata": {
        "id": "FkrlFObODdR2"
      },
      "execution_count": null,
      "outputs": []
    },
    {
      "cell_type": "markdown",
      "source": [
        "rank 2 단위 행렬(identity matrix)"
      ],
      "metadata": {
        "id": "pOZpvhvXDgtj"
      }
    },
    {
      "cell_type": "code",
      "source": [
        "import numpy as np\n",
        "def print_val(x):\n",
        "  print(\"Type:\", type(x))\n",
        "  print(\"Shape:\", x.shape)\n",
        "  print(\"값:\\n\", x)\n",
        "  print(\" \")\n",
        "\n",
        "a = np.eye(3,3)\n",
        "print_val(a)"
      ],
      "metadata": {
        "id": "BN4shzD9DkkJ"
      },
      "execution_count": null,
      "outputs": []
    },
    {
      "cell_type": "markdown",
      "source": [
        "np array indexing"
      ],
      "metadata": {
        "id": "4ve0A055Duwf"
      }
    },
    {
      "cell_type": "code",
      "source": [
        "import numpy as np\n",
        "def print_val(x):\n",
        "  print(\"Type:\", type(x))\n",
        "  print(\"Shape:\", x.shape)\n",
        "  print(\"값:\\n\", x)\n",
        "  print(\" \")\n",
        "\n",
        "a = np.array([[1,2,3,4], [5,6,7,8], [9,10,11,12]])\n",
        "print_val(a)\n",
        "\n",
        "b = a[:2, 1:3]\n",
        "print_val(b)\n",
        "\n",
        "row1 = a[1, :]\n",
        "print_val(row1)"
      ],
      "metadata": {
        "id": "lzsL3qaeDxBm"
      },
      "execution_count": null,
      "outputs": []
    },
    {
      "cell_type": "markdown",
      "source": [
        "행렬의 원소별 연산"
      ],
      "metadata": {
        "id": "r5KOncvcEH5B"
      }
    },
    {
      "cell_type": "code",
      "source": [
        "import numpy as np\n",
        "def print_val(x):\n",
        "  print(\"Type:\", type(x))\n",
        "  print(\"Shape:\", x.shape)\n",
        "  print(\"값:\\n\", x)\n",
        "  print(\" \")\n",
        "\n",
        "m1 = np.array([[1,2], [3,4]], dtype=np.float64)\n",
        "m2 = np.array([[5,6], [7,8]], dtype=np.float64)\n",
        "\n",
        "#elementwise sum\n",
        "print_val(m1 + m2)\n",
        "print_val(np.add(m1, m2))\n",
        "\n",
        "#elementwise difference\n",
        "print_val(m1 - m2)\n",
        "print_val(np.subtract(m1, m2))\n",
        "\n",
        "#elementwise product\n",
        "print_val(m1 * m2)\n",
        "print_val(np.multiply(m1, m2))\n",
        "\n",
        "#elementwise division\n",
        "print_val(m1/m2)\n",
        "print_val(np.divide(m1, m2))\n",
        "\n",
        "#elementwise square root\n",
        "print_val(np.sqrt(m1))"
      ],
      "metadata": {
        "id": "8crRVVyQEJhu"
      },
      "execution_count": null,
      "outputs": []
    },
    {
      "cell_type": "markdown",
      "source": [
        "행렬 연산"
      ],
      "metadata": {
        "id": "0pKeM9kXFFPg"
      }
    },
    {
      "cell_type": "code",
      "source": [
        "import numpy as np\n",
        "def print_val(x):\n",
        "  print(\"Type:\", type(x))\n",
        "  print(\"Shape:\", x.shape)\n",
        "  print(\"값:\\n\", x)\n",
        "  print(\" \")\n",
        "\n",
        "m1 = np.array([[1,2], [3,4]])\n",
        "m2 = np.array([[5,6], [7,8]])\n",
        "v1 = np.array([9,10])\n",
        "v2 = np.array([11, 12])\n",
        "\n",
        "print_val(m1)\n",
        "print_val(m2)\n",
        "print_val(v1)\n",
        "print_val(v2)\n",
        "\n",
        "#벡터-벡터 연산\n",
        "print_val(v1.dot(v2))\n",
        "print_val(np.dot(v1, v2))\n",
        "\n",
        "#벡터-행렬 연산\n",
        "print_val(m1.dot(v1))\n",
        "print_val(np.dot(m1, v1))\n",
        "\n",
        "#행렬-행렬 연산\n",
        "print_val(m1.dot(m2))\n",
        "print_val(np.dot(m1, m2))\n",
        "\n",
        "#전치 행렬(transpose)\n",
        "print_val(m1)\n",
        "print_val(m1.T)\n",
        "\n",
        "#합\n",
        "print_val(np.sum(m1)) #행렬의 모든 원소의 합\n",
        "print_val(np.sum(m1, axis=0)) #shape[0] (행)을 압축시키자. (2,2) -> (2, )\n",
        "print_val(np.sum(m1, axis=1)) #shape[1] (열)을 압축시키자. (2,2) -> (2, )"
      ],
      "metadata": {
        "id": "hm1WPTNQFGnY"
      },
      "execution_count": null,
      "outputs": []
    },
    {
      "cell_type": "code",
      "source": [
        "import numpy as np\n",
        "def print_val(x):\n",
        "  print(\"Type:\", type(x))\n",
        "  print(\"Shape:\", x.shape)\n",
        "  print(\"값:\\n\", x)\n",
        "  print(\" \")\n",
        "\n",
        "m1= np.array([[1,2,3], [4,5,6]])\n",
        "print(m1)\n",
        "print(m1.shape)\n",
        "\n",
        "print(np.sum(m1))\n",
        "print(np.sum(m1, axis = 0))\n",
        "print(np.sum(m1, axis = 1))"
      ],
      "metadata": {
        "colab": {
          "base_uri": "https://localhost:8080/"
        },
        "id": "JWAfayHYGbMF",
        "outputId": "6873d67c-2906-44a2-a162-4f2ebdc95f7c"
      },
      "execution_count": 3,
      "outputs": [
        {
          "output_type": "stream",
          "name": "stdout",
          "text": [
            "[[1 2 3]\n",
            " [4 5 6]]\n",
            "(2, 3)\n"
          ]
        }
      ]
    },
    {
      "cell_type": "markdown",
      "source": [
        "zeros-like"
      ],
      "metadata": {
        "id": "knHblrSLHB4l"
      }
    },
    {
      "cell_type": "code",
      "source": [
        "import numpy as np\n",
        "def print_val(x):\n",
        "  print(\"Type:\", type(x))\n",
        "  print(\"Shape:\", x.shape)\n",
        "  print(\"값:\\n\", x)\n",
        "  print(\" \")\n",
        "\n",
        "m1 = np.array([[1,2,3],\n",
        "               [4,5,6],\n",
        "               [7,8,9],\n",
        "               [10, 11, 12]])\n",
        "m2 = np.zeros_like(m1)\n",
        "print_val(m1)\n",
        "print_val(m2)"
      ],
      "metadata": {
        "id": "bcq-EXUvHDmw"
      },
      "execution_count": null,
      "outputs": []
    },
    {
      "cell_type": "markdown",
      "source": [
        "Matplot library"
      ],
      "metadata": {
        "id": "x5NbFfHOHTow"
      }
    },
    {
      "cell_type": "code",
      "source": [
        "import matplotlib.pyplot as plt\n",
        "%matplotlib inline\n",
        "import numpy as np\n",
        "\n",
        "#sin 커브\n",
        "x = np.arange(0, 10, 0.1)\n",
        "y = np.sin(x)\n",
        "\n",
        "plt.plot(x, y)"
      ],
      "metadata": {
        "id": "a3TeqTQzHWFp"
      },
      "execution_count": null,
      "outputs": []
    },
    {
      "cell_type": "markdown",
      "source": [
        "한 번에 두 개 그래프 그리기"
      ],
      "metadata": {
        "id": "jf7kaZPeIJon"
      }
    },
    {
      "cell_type": "code",
      "source": [
        "import matplotlib.pyplot as plt\n",
        "%matplotlib inline\n",
        "import numpy as np\n",
        "\n",
        "x = np.arange(0, 10, 0.1)\n",
        "y = np.sin(x)\n",
        "\n",
        "y_sin = np.sin(x)\n",
        "y_cos = np.cos(x)\n",
        "\n",
        "plt.plot(x, y_sin)\n",
        "plt.plot(x, y_cos)\n",
        "plt.xlabel('x axis label')\n",
        "plt.ylabel('y axis label')\n",
        "plt.title('sin and cos')\n",
        "plt.legend(['sin', 'cos'])\n",
        "\n",
        "plt.show()"
      ],
      "metadata": {
        "colab": {
          "base_uri": "https://localhost:8080/",
          "height": 472
        },
        "id": "F_dLDkgDILg-",
        "outputId": "22d552e0-f971-4158-be80-d8696b280eaa"
      },
      "execution_count": 5,
      "outputs": [
        {
          "output_type": "display_data",
          "data": {
            "text/plain": [
              "<Figure size 640x480 with 1 Axes>"
            ],
            "image/png": "[encoded data removed]"
          },
          "metadata": {}
        }
      ]
    },
    {
      "cell_type": "markdown",
      "source": [
        "Subplot"
      ],
      "metadata": {
        "id": "rujiCnZ-I2wd"
      }
    },
    {
      "cell_type": "code",
      "source": [
        "import matplotlib.pyplot as plt\n",
        "%matplotlib inline\n",
        "import numpy as np\n",
        "\n",
        "x = np.arange(0, 10, 0.1)\n",
        "y = np.sin(x)\n",
        "\n",
        "y_sin = np.sin(x)\n",
        "y_cos = np.cos(x)\n",
        "\n",
        "plt.subplot(2,1,1) #(2,1)형태 플릿의 첫 번째 자리에 그리겠다\n",
        "plt.plot(x, y_sin)\n",
        "plt.title('sin')\n",
        "\n",
        "plt.subplot(2,1,2)\n",
        "plt.plot(x, y_cos)\n",
        "plt.title('cos')\n",
        "\n",
        "plt.show()"
      ],
      "metadata": {
        "colab": {
          "base_uri": "https://localhost:8080/",
          "height": 452
        },
        "id": "2D1NrFX3I4RP",
        "outputId": "cfddfa40-46c6-41a7-8fcc-670d62d40f84"
      },
      "execution_count": 6,
      "outputs": [
        {
          "output_type": "display_data",
          "data": {
            "text/plain": [
              "<Figure size 640x480 with 2 Axes>"
            ],
            "image/png": "[encoded data removed]"
          },
          "metadata": {}
        }
      ]
    }
  ]
}